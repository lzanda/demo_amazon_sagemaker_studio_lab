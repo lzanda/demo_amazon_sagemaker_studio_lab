{
 "cells": [
  {
   "cell_type": "markdown",
   "metadata": {},
   "source": [
    "[![Open In Studio Lab](https://studiolab.sagemaker.aws/studiolab.svg)](https://studiolab.sagemaker.aws/import/github/aws/studio-lab-examples/blob/main/computer-vision/kmnist/cv-kminst.ipynb)\n",
    "\n",
    "# Train an image classification model with PyTorch \n",
    "\n",
    "## Background\n",
    "\n",
    "Image classification (or Image recognition) is a subdomain of computer vision in which an algorithm looks at an image and assigns it a tag from a collection of predefined tags or categories that it has been trained on.\n",
    "\n",
    "Vision is responsible for 80-85 percent of our perception of the world, and we, as human beings, trivially perform classification daily on whatever data we come across.\n",
    "\n",
    "Therefore, emulating a classification task with the help of neural networks is one of the first uses of computer vision that researchers thought about.\n",
    "\n",
    "\n",
    "## Pytorch\n",
    "\n",
    "[PyTorch](https://pytorch.org/) is an open-source machine learning library based on the Torch library, used for applications such as computer vision and natural language processing, primarily developed by Facebook's AI Research lab (FAIR). It is free and open-source software released under the Modified BSD license.\n",
    "\n",
    "## MINST dataset\n",
    "\n",
    "In this notebook we will use the KMINST dataset\n",
    "https://pytorch.org/vision/stable/datasets.html#torchvision-datasets\n",
    "    \n",
    "## Steps in this notebook\n",
    "\n",
    "The main steps are:\n",
    "- install packages\n",
    "- load dataset, what's train and test loader\n",
    "- print out 1 image from KMINST dataset, with which library, \n",
    "- initiate the NN model, what's neural network, furthor reading: mlu-cv course\n",
    "- train a model with config\n",
    "- test a model \n",
    "- print a figure with train and test loss"
   ]
  },
  {
   "cell_type": "markdown",
   "metadata": {},
   "source": [
    "- Install python packages for later use\n",
    "\n",
    "    - **torch**: for install [PyTorch](https://pytorch.org/). PyTorch is a Python package that provides two high-level features: (1) Tensor computation (like NumPy) with strong GPU acceleration (2) Deep neural networks built on a tape-based autograd system\n",
    "\n",
    "    - torchvision: \n",
    "    - torchsummary: \n",
    "    - matplotlib: \n",
    "    \n",
    "Before running this notebook we need to install the required Python packages by opening a terminal window (click on File/New/Terminal) going to the location where the env_cv.yml file is located and launching the following two commands:\n",
    "- conda env create -f env_cv.yml\n",
    "- conda activate cv\n",
    "\n",
    "After that we also need to switch the notebook kernel (click on Kernel/Change Kernel...) to **.conda-cv:Python**    "
   ]
  },
  {
   "cell_type": "code",
   "execution_count": null,
   "metadata": {},
   "outputs": [],
   "source": [
    "# Uncomment these lines if you do not want to use the env_cv.yml file\n",
    "#%pip install torch \n",
    "#%pip install torchvision\n",
    "#%pip install torchsummary\n",
    "#%pip install matplotlib\n",
    "#%pip install ipywidgets"
   ]
  },
  {
   "cell_type": "code",
   "execution_count": 1,
   "metadata": {},
   "outputs": [],
   "source": [
    "import torch\n",
    "import torchvision"
   ]
  },
  {
   "cell_type": "code",
   "execution_count": 2,
   "metadata": {},
   "outputs": [
    {
     "name": "stdout",
     "output_type": "stream",
     "text": [
      "Sun Feb  6 03:49:40 2022       \n",
      "+-----------------------------------------------------------------------------+\n",
      "| NVIDIA-SMI 470.57.02    Driver Version: 470.57.02    CUDA Version: 11.4     |\n",
      "|-------------------------------+----------------------+----------------------+\n",
      "| GPU  Name        Persistence-M| Bus-Id        Disp.A | Volatile Uncorr. ECC |\n",
      "| Fan  Temp  Perf  Pwr:Usage/Cap|         Memory-Usage | GPU-Util  Compute M. |\n",
      "|                               |                      |               MIG M. |\n",
      "|===============================+======================+======================|\n",
      "|   0  Tesla T4            Off  | 00000000:00:1E.0 Off |                    0 |\n",
      "| N/A   39C    P0    27W /  70W |      3MiB / 15109MiB |      0%      Default |\n",
      "|                               |                      |                  N/A |\n",
      "+-------------------------------+----------------------+----------------------+\n",
      "                                                                               \n",
      "+-----------------------------------------------------------------------------+\n",
      "| Processes:                                                                  |\n",
      "|  GPU   GI   CI        PID   Type   Process name                  GPU Memory |\n",
      "|        ID   ID                                                   Usage      |\n",
      "|=============================================================================|\n",
      "|  No running processes found                                                 |\n",
      "+-----------------------------------------------------------------------------+\n"
     ]
    }
   ],
   "source": [
    "if torch.cuda.is_available():  \n",
    "    device = \"cuda:0\" \n",
    "    !/usr/bin/nvidia-smi\n",
    "else:  \n",
    "    device = \"cpu\" "
   ]
  },
  {
   "cell_type": "code",
   "execution_count": 3,
   "metadata": {},
   "outputs": [],
   "source": [
    "import os\n",
    "results_dir='results'\n",
    "if not os.path.isdir(results_dir):\n",
    "    !mkdir -p {results_dir}"
   ]
  },
  {
   "cell_type": "code",
   "execution_count": 4,
   "metadata": {},
   "outputs": [
    {
     "name": "stdout",
     "output_type": "stream",
     "text": [
      "Downloading http://yann.lecun.com/exdb/mnist/train-images-idx3-ubyte.gz\n",
      "Downloading http://yann.lecun.com/exdb/mnist/train-images-idx3-ubyte.gz to dataset/MNIST/raw/train-images-idx3-ubyte.gz\n"
     ]
    },
    {
     "name": "stderr",
     "output_type": "stream",
     "text": [
      "100.0%\n"
     ]
    },
    {
     "name": "stdout",
     "output_type": "stream",
     "text": [
      "Extracting dataset/MNIST/raw/train-images-idx3-ubyte.gz to dataset/MNIST/raw\n"
     ]
    },
    {
     "name": "stderr",
     "output_type": "stream",
     "text": [
      "102.8%\n",
      "3.7%"
     ]
    },
    {
     "name": "stdout",
     "output_type": "stream",
     "text": [
      "\n",
      "Downloading http://yann.lecun.com/exdb/mnist/train-labels-idx1-ubyte.gz\n",
      "Downloading http://yann.lecun.com/exdb/mnist/train-labels-idx1-ubyte.gz to dataset/MNIST/raw/train-labels-idx1-ubyte.gz\n",
      "Extracting dataset/MNIST/raw/train-labels-idx1-ubyte.gz to dataset/MNIST/raw\n",
      "\n",
      "Downloading http://yann.lecun.com/exdb/mnist/t10k-images-idx3-ubyte.gz\n",
      "Downloading http://yann.lecun.com/exdb/mnist/t10k-images-idx3-ubyte.gz to dataset/MNIST/raw/t10k-images-idx3-ubyte.gz\n"
     ]
    },
    {
     "name": "stderr",
     "output_type": "stream",
     "text": [
      "100.0%\n",
      "112.7%\n"
     ]
    },
    {
     "name": "stdout",
     "output_type": "stream",
     "text": [
      "Extracting dataset/MNIST/raw/t10k-images-idx3-ubyte.gz to dataset/MNIST/raw\n",
      "\n",
      "Downloading http://yann.lecun.com/exdb/mnist/t10k-labels-idx1-ubyte.gz\n",
      "Downloading http://yann.lecun.com/exdb/mnist/t10k-labels-idx1-ubyte.gz to dataset/MNIST/raw/t10k-labels-idx1-ubyte.gz\n",
      "Extracting dataset/MNIST/raw/t10k-labels-idx1-ubyte.gz to dataset/MNIST/raw\n",
      "\n"
     ]
    }
   ],
   "source": [
    "## Create dataloader, in PyTorch, we feed the trainer data with use of dataloader\n",
    "## We create dataloader with dataset from torchvision, \n",
    "## and we dont have to download it seperately, all automatically done\n",
    "\n",
    "# Define batch size, batch size is how much data you feed for training in one iteration\n",
    "batch_size_train = 64 # We use a small batch size here for training\n",
    "batch_size_test = 1024 #\n",
    "\n",
    "# define how image transformed\n",
    "image_transform = torchvision.transforms.Compose([\n",
    "                               torchvision.transforms.ToTensor(),\n",
    "                               torchvision.transforms.Normalize(\n",
    "                                 (0.1307,), (0.3081,))\n",
    "                             ])\n",
    "#image datasets\n",
    "train_dataset = torchvision.datasets.MNIST('dataset/', \n",
    "                                           train=True, \n",
    "                                           download=True,\n",
    "                                           transform=image_transform)\n",
    "test_dataset = torchvision.datasets.MNIST('dataset/', \n",
    "                                          train=False, \n",
    "                                          download=True,\n",
    "                                          transform=image_transform)\n",
    "#data loaders\n",
    "train_loader = torch.utils.data.DataLoader(train_dataset,\n",
    "                                           batch_size=batch_size_train, \n",
    "                                           shuffle=True)\n",
    "test_loader = torch.utils.data.DataLoader(test_dataset,\n",
    "                                          batch_size=batch_size_test, \n",
    "                                          shuffle=True)"
   ]
  },
  {
   "cell_type": "code",
   "execution_count": 5,
   "metadata": {},
   "outputs": [
    {
     "data": {
      "image/png": "[encoded data removed]",
      "text/plain": [
       "<Figure size 432x288 with 50 Axes>"
      ]
     },
     "metadata": {
      "needs_background": "light"
     },
     "output_type": "display_data"
    }
   ],
   "source": [
    "# import library\n",
    "\n",
    "import matplotlib.pyplot as plt\n",
    "\n",
    "# show the data\n",
    "\n",
    "dataiter= iter(train_loader)\n",
    "images, labels = dataiter.next()\n",
    "\n",
    "figure = plt.figure()\n",
    "num_images = 50\n",
    "for index in range(1, num_images+1):\n",
    "    plt.subplot(5,10, index)\n",
    "    plt.axis('off')\n",
    "    plt.imshow(images[index].numpy().squeeze(), cmap='gray_r')"
   ]
  },
  {
   "cell_type": "code",
   "execution_count": 6,
   "metadata": {},
   "outputs": [
    {
     "name": "stdout",
     "output_type": "stream",
     "text": [
      "Label: tensor(0)\n"
     ]
    },
    {
     "data": {
      "image/png": "[encoded data removed]",
      "text/plain": [
       "<Figure size 432x288 with 1 Axes>"
      ]
     },
     "metadata": {
      "needs_background": "light"
     },
     "output_type": "display_data"
    }
   ],
   "source": [
    "# We can check the dataloader\n",
    "_, (example_datas, labels) = next(enumerate(test_loader))\n",
    "sample = example_datas[0][0]\n",
    "plt.imshow(sample, cmap='gray', interpolation='none')\n",
    "print(\"Label: \"+ str(labels[1]))"
   ]
  },
  {
   "cell_type": "code",
   "execution_count": 7,
   "metadata": {},
   "outputs": [],
   "source": [
    "## Now we can start to build our CNN model\n",
    "## We first import the pytorch nn module and optimizer\n",
    "import torch.nn as nn\n",
    "import torch.nn.functional as F\n",
    "import torch.optim as optim\n",
    "## Then define the model class\n",
    "class CNN(nn.Module):\n",
    "    def __init__(self):\n",
    "        super(CNN, self).__init__()\n",
    "        #input channel 1, output channel 10\n",
    "        self.conv1 = nn.Conv2d(1, 10, kernel_size=5, stride=1)\n",
    "        #input channel 10, output channel 20\n",
    "        self.conv2 = nn.Conv2d(10, 20, kernel_size=5, stride=1)\n",
    "        #dropout layer\n",
    "        self.conv2_drop = nn.Dropout2d()\n",
    "        #fully connected layer\n",
    "        self.fc1 = nn.Linear(320, 50)\n",
    "        self.fc2 = nn.Linear(50, 10)\n",
    "    def forward(self, x):\n",
    "        x = self.conv1(x)\n",
    "        x = F.max_pool2d(x, 2)\n",
    "        x = F.relu(x)\n",
    "        x = self.conv2(x)\n",
    "        x = self.conv2_drop(x)\n",
    "        x = F.max_pool2d(x, 2)\n",
    "        x = F.relu(x)\n",
    "        x = x.view(-1, 320)\n",
    "        x = self.fc1(x)\n",
    "        x = F.relu(x)\n",
    "        x = F.dropout(x)\n",
    "        x = self.fc2(x)\n",
    "        return F.log_softmax(x)"
   ]
  },
  {
   "cell_type": "code",
   "execution_count": 8,
   "metadata": {},
   "outputs": [],
   "source": [
    "## create model and optimizer\n",
    "learning_rate = 0.01\n",
    "momentum = 0.5\n",
    "model = CNN().to(device) #using cpu here\n",
    "optimizer = optim.SGD(model.parameters(), lr=learning_rate,\n",
    "                      momentum=momentum)"
   ]
  },
  {
   "cell_type": "code",
   "execution_count": 9,
   "metadata": {},
   "outputs": [
    {
     "name": "stdout",
     "output_type": "stream",
     "text": [
      "----------------------------------------------------------------\n",
      "        Layer (type)               Output Shape         Param #\n",
      "================================================================\n",
      "            Conv2d-1           [-1, 10, 24, 24]             260\n",
      "            Conv2d-2             [-1, 20, 8, 8]           5,020\n",
      "         Dropout2d-3             [-1, 20, 8, 8]               0\n",
      "            Linear-4                   [-1, 50]          16,050\n",
      "            Linear-5                   [-1, 10]             510\n",
      "================================================================\n",
      "Total params: 21,840\n",
      "Trainable params: 21,840\n",
      "Non-trainable params: 0\n",
      "----------------------------------------------------------------\n",
      "Input size (MB): 0.00\n",
      "Forward/backward pass size (MB): 0.06\n",
      "Params size (MB): 0.08\n",
      "Estimated Total Size (MB): 0.15\n",
      "----------------------------------------------------------------\n"
     ]
    },
    {
     "name": "stderr",
     "output_type": "stream",
     "text": [
      "/tmp/ipykernel_115/4020281764.py:32: UserWarning: Implicit dimension choice for log_softmax has been deprecated. Change the call to include dim=X as an argument.\n",
      "  return F.log_softmax(x)\n"
     ]
    }
   ],
   "source": [
    "\n",
    "from torchsummary import summary\n",
    "summary(model, (1, 28, 28))"
   ]
  },
  {
   "cell_type": "code",
   "execution_count": 10,
   "metadata": {},
   "outputs": [],
   "source": [
    "n_epochs = 5\n",
    "log_interval = 100\n",
    "train_losses = []\n",
    "train_counter = []\n",
    "test_losses = []\n",
    "test_counter = [i*len(train_loader.dataset) for i in range(n_epochs + 1)]"
   ]
  },
  {
   "cell_type": "code",
   "execution_count": 11,
   "metadata": {},
   "outputs": [],
   "source": [
    "def train(epoch):\n",
    "    model.train()\n",
    "    for batch_idx, (data, target) in enumerate(train_loader):\n",
    "        optimizer.zero_grad()\n",
    "        if torch.cuda.is_available():  \n",
    "            output = model(data.cuda())\n",
    "            loss = F.nll_loss(output, target.cuda())\n",
    "        else:\n",
    "            output = model(data)\n",
    "            loss = F.nll_loss(output, target)\n",
    "        loss.backward()\n",
    "        optimizer.step()\n",
    "        if batch_idx % log_interval == 0:\n",
    "            print('Train Epoch: {} [{}/{} ({:.0f}%)]\\tLoss: {:.6f}'.format(\n",
    "        epoch, batch_idx * len(data), len(train_loader.dataset),\n",
    "        100. * batch_idx / len(train_loader), loss.item()))\n",
    "    train_losses.append(loss.item())\n",
    "    train_counter.append(\n",
    "        (batch_idx*64) + ((epoch-1)*len(train_loader.dataset)))\n",
    "    torch.save(model.state_dict(), './results/model.pth')\n",
    "    torch.save(optimizer.state_dict(), './results/optimizer.pth')"
   ]
  },
  {
   "cell_type": "code",
   "execution_count": 12,
   "metadata": {},
   "outputs": [],
   "source": [
    "def test():\n",
    "    model.eval()\n",
    "    test_loss = 0\n",
    "    correct = 0\n",
    "    with torch.no_grad():\n",
    "        for data, target in test_loader:\n",
    "            if torch.cuda.is_available(): \n",
    "                output = model(data.cuda())\n",
    "                test_loss += F.nll_loss(output, target.cuda(), size_average=False).item()\n",
    "                pred = output.data.max(1, keepdim=True)[1]\n",
    "                correct += pred.eq(target.cuda().data.view_as(pred)).sum()\n",
    "            else:\n",
    "                output = model(data)\n",
    "                test_loss += F.nll_loss(output, target, size_average=False).item()\n",
    "                pred = output.data.max(1, keepdim=True)[1]\n",
    "                correct += pred.eq(target.data.view_as(pred)).sum()                \n",
    "    test_loss /= len(test_loader.dataset)\n",
    "    test_losses.append(test_loss)\n",
    "    print('\\nTest set: Avg. loss: {:.4f}, Accuracy: {}/{} ({:.0f}%)\\n'.format(\n",
    "        test_loss, correct, len(test_loader.dataset),\n",
    "        100. * correct / len(test_loader.dataset)))"
   ]
  },
  {
   "cell_type": "code",
   "execution_count": 13,
   "metadata": {},
   "outputs": [],
   "source": [
    "import datetime"
   ]
  },
  {
   "cell_type": "code",
   "execution_count": 14,
   "metadata": {},
   "outputs": [
    {
     "name": "stderr",
     "output_type": "stream",
     "text": [
      "/tmp/ipykernel_115/4020281764.py:32: UserWarning: Implicit dimension choice for log_softmax has been deprecated. Change the call to include dim=X as an argument.\n",
      "  return F.log_softmax(x)\n",
      "/home/studio-lab-user/.conda/envs/cv/lib/python3.9/site-packages/torch/nn/_reduction.py:42: UserWarning: size_average and reduce args will be deprecated, please use reduction='sum' instead.\n",
      "  warnings.warn(warning.format(ret))\n"
     ]
    },
    {
     "name": "stdout",
     "output_type": "stream",
     "text": [
      "\n",
      "Test set: Avg. loss: 2.2997, Accuracy: 1248/10000 (12%)\n",
      "\n",
      "Train Epoch: 1 [0/60000 (0%)]\tLoss: 2.283286\n",
      "Train Epoch: 1 [6400/60000 (11%)]\tLoss: 1.772840\n",
      "Train Epoch: 1 [12800/60000 (21%)]\tLoss: 1.119049\n",
      "Train Epoch: 1 [19200/60000 (32%)]\tLoss: 0.816711\n",
      "Train Epoch: 1 [25600/60000 (43%)]\tLoss: 0.649809\n",
      "Train Epoch: 1 [32000/60000 (53%)]\tLoss: 0.694321\n",
      "Train Epoch: 1 [38400/60000 (64%)]\tLoss: 0.432301\n",
      "Train Epoch: 1 [44800/60000 (75%)]\tLoss: 0.681761\n",
      "Train Epoch: 1 [51200/60000 (85%)]\tLoss: 0.296848\n",
      "Train Epoch: 1 [57600/60000 (96%)]\tLoss: 0.477539\n",
      "\n",
      "Test set: Avg. loss: 0.3433, Accuracy: 8996/10000 (90%)\n",
      "\n",
      "Train Epoch: 2 [0/60000 (0%)]\tLoss: 0.485271\n",
      "Train Epoch: 2 [6400/60000 (11%)]\tLoss: 0.406368\n",
      "Train Epoch: 2 [12800/60000 (21%)]\tLoss: 0.660860\n",
      "Train Epoch: 2 [19200/60000 (32%)]\tLoss: 0.312264\n",
      "Train Epoch: 2 [25600/60000 (43%)]\tLoss: 0.358865\n",
      "Train Epoch: 2 [32000/60000 (53%)]\tLoss: 0.391644\n",
      "Train Epoch: 2 [38400/60000 (64%)]\tLoss: 0.527771\n",
      "Train Epoch: 2 [44800/60000 (75%)]\tLoss: 0.617748\n",
      "Train Epoch: 2 [51200/60000 (85%)]\tLoss: 0.439896\n",
      "Train Epoch: 2 [57600/60000 (96%)]\tLoss: 0.494806\n",
      "\n",
      "Test set: Avg. loss: 0.2357, Accuracy: 9288/10000 (93%)\n",
      "\n",
      "Train Epoch: 3 [0/60000 (0%)]\tLoss: 0.395190\n",
      "Train Epoch: 3 [6400/60000 (11%)]\tLoss: 0.427488\n",
      "Train Epoch: 3 [12800/60000 (21%)]\tLoss: 0.352690\n",
      "Train Epoch: 3 [19200/60000 (32%)]\tLoss: 0.211891\n",
      "Train Epoch: 3 [25600/60000 (43%)]\tLoss: 0.291490\n",
      "Train Epoch: 3 [32000/60000 (53%)]\tLoss: 0.214557\n",
      "Train Epoch: 3 [38400/60000 (64%)]\tLoss: 0.301439\n",
      "Train Epoch: 3 [44800/60000 (75%)]\tLoss: 0.254743\n",
      "Train Epoch: 3 [51200/60000 (85%)]\tLoss: 0.354118\n",
      "Train Epoch: 3 [57600/60000 (96%)]\tLoss: 0.190142\n",
      "\n",
      "Test set: Avg. loss: 0.1792, Accuracy: 9456/10000 (95%)\n",
      "\n",
      "Train Epoch: 4 [0/60000 (0%)]\tLoss: 0.273595\n",
      "Train Epoch: 4 [6400/60000 (11%)]\tLoss: 0.409957\n",
      "Train Epoch: 4 [12800/60000 (21%)]\tLoss: 0.121639\n",
      "Train Epoch: 4 [19200/60000 (32%)]\tLoss: 0.362852\n",
      "Train Epoch: 4 [25600/60000 (43%)]\tLoss: 0.265168\n",
      "Train Epoch: 4 [32000/60000 (53%)]\tLoss: 0.416846\n",
      "Train Epoch: 4 [38400/60000 (64%)]\tLoss: 0.162261\n",
      "Train Epoch: 4 [44800/60000 (75%)]\tLoss: 0.371497\n",
      "Train Epoch: 4 [51200/60000 (85%)]\tLoss: 0.327475\n",
      "Train Epoch: 4 [57600/60000 (96%)]\tLoss: 0.160257\n",
      "\n",
      "Test set: Avg. loss: 0.1587, Accuracy: 9533/10000 (95%)\n",
      "\n",
      "Train Epoch: 5 [0/60000 (0%)]\tLoss: 0.223618\n",
      "Train Epoch: 5 [6400/60000 (11%)]\tLoss: 0.318529\n",
      "Train Epoch: 5 [12800/60000 (21%)]\tLoss: 0.149569\n",
      "Train Epoch: 5 [19200/60000 (32%)]\tLoss: 0.325363\n",
      "Train Epoch: 5 [25600/60000 (43%)]\tLoss: 0.109654\n",
      "Train Epoch: 5 [32000/60000 (53%)]\tLoss: 0.288675\n",
      "Train Epoch: 5 [38400/60000 (64%)]\tLoss: 0.324404\n",
      "Train Epoch: 5 [44800/60000 (75%)]\tLoss: 0.256289\n",
      "Train Epoch: 5 [51200/60000 (85%)]\tLoss: 0.395380\n",
      "Train Epoch: 5 [57600/60000 (96%)]\tLoss: 0.189125\n",
      "\n",
      "Test set: Avg. loss: 0.1395, Accuracy: 9591/10000 (96%)\n",
      "\n",
      "Train time in seconds:  54.410358\n"
     ]
    }
   ],
   "source": [
    "start = datetime.datetime.now()\n",
    "test()\n",
    "for epoch in range(1, n_epochs + 1):\n",
    "    train(epoch)\n",
    "    test()\n",
    "    \n",
    "timediff = datetime.datetime.now() - start\n",
    "print('Train time in seconds: ', timediff.total_seconds())"
   ]
  },
  {
   "cell_type": "code",
   "execution_count": 15,
   "metadata": {},
   "outputs": [
    {
     "data": {
      "text/plain": [
       "Text(0, 0.5, 'negative log likelihood loss')"
      ]
     },
     "execution_count": 15,
     "metadata": {},
     "output_type": "execute_result"
    },
    {
     "data": {
      "image/png": "[encoded data removed]",
      "text/plain": [
       "<Figure size 432x288 with 1 Axes>"
      ]
     },
     "metadata": {
      "needs_background": "light"
     },
     "output_type": "display_data"
    }
   ],
   "source": [
    "fig = plt.figure()\n",
    "plt.plot(train_counter, train_losses, color='blue')\n",
    "plt.scatter(test_counter, test_losses, color='red')\n",
    "plt.legend(['Train Loss', 'Test Loss'], loc='upper right')\n",
    "plt.xlabel('number of training examples seen')\n",
    "plt.ylabel('negative log likelihood loss')\n",
    "#fig"
   ]
  },
  {
   "cell_type": "code",
   "execution_count": 16,
   "metadata": {},
   "outputs": [
    {
     "name": "stderr",
     "output_type": "stream",
     "text": [
      "/tmp/ipykernel_115/4020281764.py:32: UserWarning: Implicit dimension choice for log_softmax has been deprecated. Change the call to include dim=X as an argument.\n",
      "  return F.log_softmax(x)\n"
     ]
    },
    {
     "data": {
      "image/png": "[encoded data removed]",
      "text/plain": [
       "<Figure size 432x288 with 6 Axes>"
      ]
     },
     "metadata": {},
     "output_type": "display_data"
    }
   ],
   "source": [
    "_, (example_datas, labels ) = next(enumerate(test_loader))\n",
    "with torch.no_grad():\n",
    "    if torch.cuda.is_available():\n",
    "        output = model(example_datas.cuda())\n",
    "    else:\n",
    "        output = model(example_datas)\n",
    "        \n",
    "        \n",
    "figure = plt.figure()\n",
    "num_images = 5\n",
    "for index in range(0, num_images+1):\n",
    "    plt.subplot(2,3, index+1)\n",
    "    plt.tight_layout()\n",
    "    plt.imshow(example_datas[index][0], cmap='gray', interpolation='none')\n",
    "    plt.title(\"Predictions: {}\".format(output.data.max(1,keepdim=True)[1][index].item()) )\n",
    "    plt.xticks([])\n",
    "    plt.yticks([])\n"
   ]
  },
  {
   "cell_type": "code",
   "execution_count": null,
   "metadata": {},
   "outputs": [],
   "source": []
  }
 ],
 "metadata": {
  "kernelspec": {
   "display_name": "cv:Python",
   "language": "python",
   "name": "conda-env-cv-py"
  },
  "language_info": {
   "codemirror_mode": {
    "name": "ipython",
    "version": 3
   },
   "file_extension": ".py",
   "mimetype": "text/x-python",
   "name": "python",
   "nbconvert_exporter": "python",
   "pygments_lexer": "ipython3",
   "version": "3.9.10"
  }
 },
 "nbformat": 4,
 "nbformat_minor": 4
}
